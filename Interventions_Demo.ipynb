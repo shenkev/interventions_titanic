{
 "cells": [
  {
   "cell_type": "code",
   "execution_count": 7,
   "metadata": {},
   "outputs": [],
   "source": [
    "import numpy as np\n",
    "import pandas as pd\n",
    "from sklearn.linear_model import LinearRegression\n",
    "import matplotlib.pyplot as plt\n",
    "import seaborn as sns\n",
    "from IPython.display import Image\n",
    "from ipywidgets import interact, interactive, fixed, interact_manual\n",
    "import ipywidgets as widgets\n",
    "sns.set()"
   ]
  },
  {
   "cell_type": "code",
   "execution_count": 8,
   "metadata": {},
   "outputs": [],
   "source": [
    "%matplotlib inline\n",
    "plt.rcParams[\"figure.figsize\"] = (8, 6)"
   ]
  },
  {
   "cell_type": "markdown",
   "metadata": {},
   "source": [
    "## The Titanic Dataset\n",
    "\n",
    "1. Survived: 0 (no) or 1(yes)\n",
    "2. Pclass: ticket class, 1 (upper), 2 (middle) or 3 (lower)\n",
    "3. Sex: 0 (male) or 1 (female)\n",
    "4. Age: float, ranging from 0.4 to 80, contains NaN"
   ]
  },
  {
   "cell_type": "code",
   "execution_count": 14,
   "metadata": {
    "scrolled": true
   },
   "outputs": [
    {
     "data": {
      "text/html": [
       "<div>\n",
       "<style scoped>\n",
       "    .dataframe tbody tr th:only-of-type {\n",
       "        vertical-align: middle;\n",
       "    }\n",
       "\n",
       "    .dataframe tbody tr th {\n",
       "        vertical-align: top;\n",
       "    }\n",
       "\n",
       "    .dataframe thead th {\n",
       "        text-align: right;\n",
       "    }\n",
       "</style>\n",
       "<table border=\"1\" class=\"dataframe\">\n",
       "  <thead>\n",
       "    <tr style=\"text-align: right;\">\n",
       "      <th></th>\n",
       "      <th>PassengerId</th>\n",
       "      <th>Survived</th>\n",
       "      <th>Pclass</th>\n",
       "      <th>Name</th>\n",
       "      <th>Sex</th>\n",
       "      <th>Age</th>\n",
       "      <th>SibSp</th>\n",
       "      <th>Parch</th>\n",
       "      <th>Ticket</th>\n",
       "      <th>Fare</th>\n",
       "      <th>Cabin</th>\n",
       "      <th>Embarked</th>\n",
       "    </tr>\n",
       "  </thead>\n",
       "  <tbody>\n",
       "    <tr>\n",
       "      <th>0</th>\n",
       "      <td>1</td>\n",
       "      <td>0</td>\n",
       "      <td>3</td>\n",
       "      <td>Braund, Mr. Owen Harris</td>\n",
       "      <td>male</td>\n",
       "      <td>22.0</td>\n",
       "      <td>1</td>\n",
       "      <td>0</td>\n",
       "      <td>A/5 21171</td>\n",
       "      <td>7.2500</td>\n",
       "      <td>NaN</td>\n",
       "      <td>S</td>\n",
       "    </tr>\n",
       "    <tr>\n",
       "      <th>1</th>\n",
       "      <td>2</td>\n",
       "      <td>1</td>\n",
       "      <td>1</td>\n",
       "      <td>Cumings, Mrs. John Bradley (Florence Briggs Th...</td>\n",
       "      <td>female</td>\n",
       "      <td>38.0</td>\n",
       "      <td>1</td>\n",
       "      <td>0</td>\n",
       "      <td>PC 17599</td>\n",
       "      <td>71.2833</td>\n",
       "      <td>C85</td>\n",
       "      <td>C</td>\n",
       "    </tr>\n",
       "    <tr>\n",
       "      <th>2</th>\n",
       "      <td>3</td>\n",
       "      <td>1</td>\n",
       "      <td>3</td>\n",
       "      <td>Heikkinen, Miss. Laina</td>\n",
       "      <td>female</td>\n",
       "      <td>26.0</td>\n",
       "      <td>0</td>\n",
       "      <td>0</td>\n",
       "      <td>STON/O2. 3101282</td>\n",
       "      <td>7.9250</td>\n",
       "      <td>NaN</td>\n",
       "      <td>S</td>\n",
       "    </tr>\n",
       "    <tr>\n",
       "      <th>3</th>\n",
       "      <td>4</td>\n",
       "      <td>1</td>\n",
       "      <td>1</td>\n",
       "      <td>Futrelle, Mrs. Jacques Heath (Lily May Peel)</td>\n",
       "      <td>female</td>\n",
       "      <td>35.0</td>\n",
       "      <td>1</td>\n",
       "      <td>0</td>\n",
       "      <td>113803</td>\n",
       "      <td>53.1000</td>\n",
       "      <td>C123</td>\n",
       "      <td>S</td>\n",
       "    </tr>\n",
       "    <tr>\n",
       "      <th>4</th>\n",
       "      <td>5</td>\n",
       "      <td>0</td>\n",
       "      <td>3</td>\n",
       "      <td>Allen, Mr. William Henry</td>\n",
       "      <td>male</td>\n",
       "      <td>35.0</td>\n",
       "      <td>0</td>\n",
       "      <td>0</td>\n",
       "      <td>373450</td>\n",
       "      <td>8.0500</td>\n",
       "      <td>NaN</td>\n",
       "      <td>S</td>\n",
       "    </tr>\n",
       "  </tbody>\n",
       "</table>\n",
       "</div>"
      ],
      "text/plain": [
       "   PassengerId  Survived  Pclass  \\\n",
       "0            1         0       3   \n",
       "1            2         1       1   \n",
       "2            3         1       3   \n",
       "3            4         1       1   \n",
       "4            5         0       3   \n",
       "\n",
       "                                                Name     Sex   Age  SibSp  \\\n",
       "0                            Braund, Mr. Owen Harris    male  22.0      1   \n",
       "1  Cumings, Mrs. John Bradley (Florence Briggs Th...  female  38.0      1   \n",
       "2                             Heikkinen, Miss. Laina  female  26.0      0   \n",
       "3       Futrelle, Mrs. Jacques Heath (Lily May Peel)  female  35.0      1   \n",
       "4                           Allen, Mr. William Henry    male  35.0      0   \n",
       "\n",
       "   Parch            Ticket     Fare Cabin Embarked  \n",
       "0      0         A/5 21171   7.2500   NaN        S  \n",
       "1      0          PC 17599  71.2833   C85        C  \n",
       "2      0  STON/O2. 3101282   7.9250   NaN        S  \n",
       "3      0            113803  53.1000  C123        S  \n",
       "4      0            373450   8.0500   NaN        S  "
      ]
     },
     "execution_count": 14,
     "metadata": {},
     "output_type": "execute_result"
    }
   ],
   "source": [
    "titanic_training = pd.read_csv('train.csv')\n",
    "titanic_training.head()"
   ]
  },
  {
   "cell_type": "code",
   "execution_count": 15,
   "metadata": {},
   "outputs": [
    {
     "data": {
      "text/html": [
       "<div>\n",
       "<style scoped>\n",
       "    .dataframe tbody tr th:only-of-type {\n",
       "        vertical-align: middle;\n",
       "    }\n",
       "\n",
       "    .dataframe tbody tr th {\n",
       "        vertical-align: top;\n",
       "    }\n",
       "\n",
       "    .dataframe thead th {\n",
       "        text-align: right;\n",
       "    }\n",
       "</style>\n",
       "<table border=\"1\" class=\"dataframe\">\n",
       "  <thead>\n",
       "    <tr style=\"text-align: right;\">\n",
       "      <th></th>\n",
       "      <th>PassengerId</th>\n",
       "      <th>Survived</th>\n",
       "      <th>Pclass</th>\n",
       "      <th>Age</th>\n",
       "      <th>SibSp</th>\n",
       "      <th>Parch</th>\n",
       "      <th>Fare</th>\n",
       "    </tr>\n",
       "  </thead>\n",
       "  <tbody>\n",
       "    <tr>\n",
       "      <th>count</th>\n",
       "      <td>891.000000</td>\n",
       "      <td>891.000000</td>\n",
       "      <td>891.000000</td>\n",
       "      <td>714.000000</td>\n",
       "      <td>891.000000</td>\n",
       "      <td>891.000000</td>\n",
       "      <td>891.000000</td>\n",
       "    </tr>\n",
       "    <tr>\n",
       "      <th>mean</th>\n",
       "      <td>446.000000</td>\n",
       "      <td>0.383838</td>\n",
       "      <td>2.308642</td>\n",
       "      <td>29.699118</td>\n",
       "      <td>0.523008</td>\n",
       "      <td>0.381594</td>\n",
       "      <td>32.204208</td>\n",
       "    </tr>\n",
       "    <tr>\n",
       "      <th>std</th>\n",
       "      <td>257.353842</td>\n",
       "      <td>0.486592</td>\n",
       "      <td>0.836071</td>\n",
       "      <td>14.526497</td>\n",
       "      <td>1.102743</td>\n",
       "      <td>0.806057</td>\n",
       "      <td>49.693429</td>\n",
       "    </tr>\n",
       "    <tr>\n",
       "      <th>min</th>\n",
       "      <td>1.000000</td>\n",
       "      <td>0.000000</td>\n",
       "      <td>1.000000</td>\n",
       "      <td>0.420000</td>\n",
       "      <td>0.000000</td>\n",
       "      <td>0.000000</td>\n",
       "      <td>0.000000</td>\n",
       "    </tr>\n",
       "    <tr>\n",
       "      <th>25%</th>\n",
       "      <td>223.500000</td>\n",
       "      <td>0.000000</td>\n",
       "      <td>2.000000</td>\n",
       "      <td>20.125000</td>\n",
       "      <td>0.000000</td>\n",
       "      <td>0.000000</td>\n",
       "      <td>7.910400</td>\n",
       "    </tr>\n",
       "    <tr>\n",
       "      <th>50%</th>\n",
       "      <td>446.000000</td>\n",
       "      <td>0.000000</td>\n",
       "      <td>3.000000</td>\n",
       "      <td>28.000000</td>\n",
       "      <td>0.000000</td>\n",
       "      <td>0.000000</td>\n",
       "      <td>14.454200</td>\n",
       "    </tr>\n",
       "    <tr>\n",
       "      <th>75%</th>\n",
       "      <td>668.500000</td>\n",
       "      <td>1.000000</td>\n",
       "      <td>3.000000</td>\n",
       "      <td>38.000000</td>\n",
       "      <td>1.000000</td>\n",
       "      <td>0.000000</td>\n",
       "      <td>31.000000</td>\n",
       "    </tr>\n",
       "    <tr>\n",
       "      <th>max</th>\n",
       "      <td>891.000000</td>\n",
       "      <td>1.000000</td>\n",
       "      <td>3.000000</td>\n",
       "      <td>80.000000</td>\n",
       "      <td>8.000000</td>\n",
       "      <td>6.000000</td>\n",
       "      <td>512.329200</td>\n",
       "    </tr>\n",
       "  </tbody>\n",
       "</table>\n",
       "</div>"
      ],
      "text/plain": [
       "       PassengerId    Survived      Pclass         Age       SibSp  \\\n",
       "count   891.000000  891.000000  891.000000  714.000000  891.000000   \n",
       "mean    446.000000    0.383838    2.308642   29.699118    0.523008   \n",
       "std     257.353842    0.486592    0.836071   14.526497    1.102743   \n",
       "min       1.000000    0.000000    1.000000    0.420000    0.000000   \n",
       "25%     223.500000    0.000000    2.000000   20.125000    0.000000   \n",
       "50%     446.000000    0.000000    3.000000   28.000000    0.000000   \n",
       "75%     668.500000    1.000000    3.000000   38.000000    1.000000   \n",
       "max     891.000000    1.000000    3.000000   80.000000    8.000000   \n",
       "\n",
       "            Parch        Fare  \n",
       "count  891.000000  891.000000  \n",
       "mean     0.381594   32.204208  \n",
       "std      0.806057   49.693429  \n",
       "min      0.000000    0.000000  \n",
       "25%      0.000000    7.910400  \n",
       "50%      0.000000   14.454200  \n",
       "75%      0.000000   31.000000  \n",
       "max      6.000000  512.329200  "
      ]
     },
     "execution_count": 15,
     "metadata": {},
     "output_type": "execute_result"
    }
   ],
   "source": [
    "titanic_training.describe()"
   ]
  },
  {
   "cell_type": "code",
   "execution_count": 16,
   "metadata": {},
   "outputs": [],
   "source": [
    "def get_conditional_probability(df, events, conditions):\n",
    "    \"\"\"calculate P(events|conditions), events and conditions are represent by dictionaries\"\"\"\n",
    "    dfc = df.copy()\n",
    "    for key, value in conditions.items():\n",
    "        dfc = dfc.loc[dfc[key] == value]\n",
    "    total = len(dfc)\n",
    "    if total == 0:\n",
    "        return 1\n",
    "    for key, value in events.items():\n",
    "        dfc = dfc.loc[dfc[key] == value]\n",
    "    return len(dfc) / total"
   ]
  },
  {
   "cell_type": "markdown",
   "metadata": {},
   "source": [
    "## Question 1: What if Jack bought a first class ticket?"
   ]
  },
  {
   "cell_type": "markdown",
   "metadata": {},
   "source": [
    "#### Statement 1: buying 1st class ticket increases one's survival rate by 39%."
   ]
  },
  {
   "cell_type": "code",
   "execution_count": 20,
   "metadata": {},
   "outputs": [
    {
     "data": {
      "image/png": "[encoded data removed]",
      "text/plain": [
       "<Figure size 576x432 with 1 Axes>"
      ]
     },
     "metadata": {
      "needs_background": "light"
     },
     "output_type": "display_data"
    }
   ],
   "source": [
    "def autolabel(rects):\n",
    "    \"\"\"Attach a text label above each bar in *rects*, displaying its height.\"\"\"\n",
    "    for rect in rects:\n",
    "        height = rect.get_height()\n",
    "        ax.annotate('{:.2f}'.format(height),\n",
    "                    xy=(rect.get_x() + rect.get_width() / 2, height),\n",
    "                    xytext=(0, 3),  # 3 points vertical offset\n",
    "                    textcoords=\"offset points\",\n",
    "                    ha='center', va='bottom')\n",
    "\n",
    "def plot_survival_rate_per_pclass(df):\n",
    "    rates = []\n",
    "    for pclass in [1, 2, 3]:\n",
    "        survival_rate = get_conditional_probability(df, {'Survived': 1}, {'Pclass': pclass})\n",
    "        rates.append(survival_rate)\n",
    "\n",
    "    fig, ax = plt.subplots()\n",
    "    rects = ax.bar([1, 2, 3], rates, 0.5)\n",
    "    ax.set_xlabel('Pclass')\n",
    "    ax.set_xticks([1, 2, 3])\n",
    "    ax.set_ylabel('Survival Rate')\n",
    "    autolabel(rects)\n",
    "    plt.show()\n",
    "\n",
    "plot_survival_rate_per_pclass(titanic_training)"
   ]
  },
  {
   "cell_type": "markdown",
   "metadata": {},
   "source": [
    "#### Statement 2: buying 1st class ticket increases a man's survival rate by 23%, and increases a woman's survival rate by 47%."
   ]
  },
  {
   "cell_type": "code",
   "execution_count": 21,
   "metadata": {},
   "outputs": [
    {
     "data": {
      "image/png": "[encoded data removed]",
      "text/plain": [
       "<Figure size 576x432 with 1 Axes>"
      ]
     },
     "metadata": {
      "needs_background": "light"
     },
     "output_type": "display_data"
    }
   ],
   "source": [
    "def plot_survival_rate_per_pclass_sex(df):\n",
    "    rates = {'male': [], 'female': []}\n",
    "    for pclass in [1, 2, 3]:\n",
    "        for sex in ['male', 'female']:\n",
    "            conditions = {'Pclass': pclass, 'Sex': sex}\n",
    "            survival_rate_by_sex = get_conditional_probability(df, {'Survived': 1}, conditions)\n",
    "            rates[sex].append(survival_rate_by_sex)\n",
    "\n",
    "    fig, ax = plt.subplots()\n",
    "    width = 0.35\n",
    "    x = np.array([1, 2, 3])\n",
    "    rects1 = ax.bar(x - width / 2, rates['male'], width, label='male')\n",
    "    rects2 = ax.bar(x + width / 2, rates['female'], width, label='female')\n",
    "    ax.set_ylabel('Survival Rate')\n",
    "    ax.set_xlabel('Pclass')\n",
    "    ax.set_xticks([1, 2, 3])\n",
    "    ax.legend()\n",
    "\n",
    "    autolabel(rects1)\n",
    "    autolabel(rects2)\n",
    "    plt.show()\n",
    "\n",
    "plot_survival_rate_per_pclass_sex(titanic_training)"
   ]
  },
  {
   "cell_type": "markdown",
   "metadata": {},
   "source": [
    "### Intervetions"
   ]
  },
  {
   "cell_type": "markdown",
   "metadata": {},
   "source": [
    "#### Story 1: sex as a confounder "
   ]
  },
  {
   "cell_type": "code",
   "execution_count": 8,
   "metadata": {},
   "outputs": [
    {
     "data": {
      "image/png": "[encoded data removed]",
      "text/plain": [
       "<IPython.core.display.Image object>"
      ]
     },
     "execution_count": 8,
     "metadata": {},
     "output_type": "execute_result"
    }
   ],
   "source": [
    "Image(filename='dag1.png')"
   ]
  },
  {
   "cell_type": "markdown",
   "metadata": {},
   "source": [
    "Assuming the above dependency graph, statement 1 needs adjustment:\n",
    "\n",
    "$\\text{P}(Survived|\\text{do}(Pclass)) = \\text{P}(Survived|Pclass,\\ Sex) \\text{P}(Sex) + \\text{P}(Survived|Pclass,\\ Sex) \\text{P}(Sex)$\n",
    "\n",
    "We calculate Average Causal Effect (ACE)\n",
    "\n",
    "$\\text{ACE} = \\text{P}(Survived=1|\\text{do}(Pclass=1)) - \\text{P}(Survived=1|\\text{do}(Pclass=3))$"
   ]
  },
  {
   "cell_type": "code",
   "execution_count": 43,
   "metadata": {},
   "outputs": [
    {
     "name": "stdout",
     "output_type": "stream",
     "text": [
      "P(Survived=1|do(Pclass=3)) = 0.264\n",
      "P(Survived=1|do(Pclass=1)) = 0.580\n",
      "ACE = 0.316\n"
     ]
    }
   ],
   "source": [
    "def survival_rate_do_pclass(df, pclass):\n",
    "    # calculate P(Survived=1|do(Pclass=pclass)), using adjustment w.r.t Sex\n",
    "    result = 0\n",
    "    for sex in ['male', 'female']:\n",
    "        p_sex = get_conditional_probability(df, {'Sex': sex}, {})\n",
    "        survival_rate = get_conditional_probability(df, {'Survived': 1}, {'Pclass': pclass, 'Sex': sex})\n",
    "        result += survival_rate * p_sex\n",
    "    return result\n",
    "\n",
    "def ace_do_pclass(df, original_pclass, hypothetical_pclass):\n",
    "    p_original = survival_rate_do_pclass(df, original_pclass)\n",
    "    p_hypothetical = survival_rate_do_pclass(df, hypothetical_pclass)\n",
    "    print('P(Survived=1|do(Pclass={})) = {:.3f}'.format(original_pclass, p_original))\n",
    "    print('P(Survived=1|do(Pclass={})) = {:.3f}'.format(hypothetical_pclass, p_hypothetical))\n",
    "    print('ACE = {:.3f}'.format(p_hypothetical - p_original))\n",
    "\n",
    "ace_do_pclass(titanic_training, 3, 1)"
   ]
  },
  {
   "cell_type": "markdown",
   "metadata": {},
   "source": [
    "**Same result using inverse probability weighting.**"
   ]
  },
  {
   "cell_type": "code",
   "execution_count": 42,
   "metadata": {},
   "outputs": [
    {
     "name": "stdout",
     "output_type": "stream",
     "text": [
      "calculated with inverse probability weighting\n",
      "calculated with inverse probability weighting\n",
      "P(Survived=1|do(Pclass=3)) = 0.264\n",
      "P(Survived=1|do(Pclass=1)) = 0.580\n",
      "ACE = 0.316\n"
     ]
    }
   ],
   "source": [
    "def add_weights(df):\n",
    "    df['weight'] = 0\n",
    "    for pclass in [1, 2, 3]:\n",
    "        for sex in ['male', 'female']:\n",
    "            weight = 1 / get_conditional_probability(df, {'Pclass': pclass}, {'Sex': sex})\n",
    "            df.loc[(df['Pclass'] == pclass) & (df['Sex'] == sex), 'weight'] = weight\n",
    "\n",
    "def survival_rate_do_pclass_ipw(df, pclass):\n",
    "    print('calculated with inverse probability weighting')\n",
    "    add_weights(df)\n",
    "    n = len(df)\n",
    "    dfc = df[(df['Survived'] == 1) & (df['Pclass'] == pclass)]\n",
    "    result = dfc['weight'].sum() / n\n",
    "    return result\n",
    "\n",
    "def ace_do_pclass_ipw(df, original_pclass, hypothetical_pclass):\n",
    "    p_original = survival_rate_do_pclass_ipw(df, original_pclass)\n",
    "    p_hypothetical = survival_rate_do_pclass_ipw(df, hypothetical_pclass)\n",
    "    print('P(Survived=1|do(Pclass={})) = {:.3f}'.format(original_pclass, p_original))\n",
    "    print('P(Survived=1|do(Pclass={})) = {:.3f}'.format(hypothetical_pclass, p_hypothetical))\n",
    "    print('ACE = {:.3f}'.format(p_hypothetical - p_original))\n",
    "\n",
    "ace_do_pclass_ipw(titanic_training, 3, 1)"
   ]
  },
  {
   "cell_type": "markdown",
   "metadata": {},
   "source": [
    "Sex-specific effect\n",
    "\n",
    "$\\text{P}(Survived|\\text{do}(Pclass),\\ Sex) = \\text{P}(Survived|Pclass,\\ Sex)$\n",
    "\n",
    "Argument 2 does not need adjustment."
   ]
  },
  {
   "cell_type": "markdown",
   "metadata": {},
   "source": [
    "From causal inference's point of view, if we assume sex as the only confounder, upgrading from 3rd class to 1st class increases one's survival rate by **32%**, a male's survival rate is increased by **23%** and a female's survival rate is increased by **47%**."
   ]
  },
  {
   "cell_type": "markdown",
   "metadata": {},
   "source": [
    "#### Story 2: age also plays a role."
   ]
  },
  {
   "cell_type": "code",
   "execution_count": 31,
   "metadata": {},
   "outputs": [
    {
     "data": {
      "image/png": "[encoded data removed]",
      "text/plain": [
       "<IPython.core.display.Image object>"
      ]
     },
     "execution_count": 31,
     "metadata": {},
     "output_type": "execute_result"
    }
   ],
   "source": [
    "Image(filename='dag2.png')"
   ]
  },
  {
   "cell_type": "markdown",
   "metadata": {},
   "source": [
    "Age feature has 89 different values, better discretize by percentile."
   ]
  },
  {
   "cell_type": "code",
   "execution_count": 36,
   "metadata": {},
   "outputs": [
    {
     "data": {
      "text/plain": [
       "<matplotlib.axes._subplots.AxesSubplot at 0x1da1bf2b390>"
      ]
     },
     "execution_count": 36,
     "metadata": {},
     "output_type": "execute_result"
    },
    {
     "data": {
      "image/png": "[encoded data removed]",
      "text/plain": [
       "<Figure size 576x432 with 1 Axes>"
      ]
     },
     "metadata": {
      "needs_background": "light"
     },
     "output_type": "display_data"
    }
   ],
   "source": [
    "titanic_training['Age'].hist(bins=len(titanic_training['Age'].unique()))"
   ]
  },
  {
   "cell_type": "code",
   "execution_count": 47,
   "metadata": {},
   "outputs": [
    {
     "data": {
      "application/vnd.jupyter.widget-view+json": {
       "model_id": "2579e18738b345d0bc4b5ff26ff0c27c",
       "version_major": 2,
       "version_minor": 0
      },
      "text/plain": [
       "interactive(children=(IntSlider(value=10, continuous_update=False, description='n_age_bins', max=89, min=2), O…"
      ]
     },
     "metadata": {},
     "output_type": "display_data"
    },
    {
     "data": {
      "text/plain": [
       "<function __main__.ace_do_pclass_v2(n_age_bins)>"
      ]
     },
     "execution_count": 47,
     "metadata": {},
     "output_type": "execute_result"
    }
   ],
   "source": [
    "def discretize(df, column_name, n_bins):\n",
    "    dfc = df.copy()\n",
    "    nan_mask = pd.isna(dfc[column_name])\n",
    "    # reserve one bin for NaN\n",
    "    dfc[column_name] = pd.qcut(dfc[column_name], n_bins - 1, labels=False, duplicates='drop')\n",
    "    dfc.loc[nan_mask, column_name] = -1\n",
    "    return dfc\n",
    "\n",
    "\n",
    "def survival_rate_do_pclass_v2(df, pclass):\n",
    "    # calculate P(Survived=1|do(Pclass=pclass)), using adjustment w.r.t Sex and Age\n",
    "    result = 0\n",
    "    for sex in ['male', 'female']:\n",
    "        for age in df[df['Sex'] == sex]['Age'].unique():\n",
    "            p_sex_age = get_conditional_probability(df, {'Sex': sex, 'Age': age}, {})\n",
    "            survival_rate = get_conditional_probability(df, {'Survived': 1},\n",
    "                                                        {'Pclass': pclass, 'Sex': sex, 'Age': age})\n",
    "            result += survival_rate * p_sex_age\n",
    "    return result\n",
    "\n",
    "def ace_do_pclass_v2(n_age_bins):\n",
    "    df = discretize(titanic_training, 'Age', n_age_bins)\n",
    "    p1 = survival_rate_do_pclass_v2(df, 1)\n",
    "    p3 = survival_rate_do_pclass_v2(df, 3)\n",
    "    print('P(Survived=1|do(Pclass=1)) = {:.3f}'.format(p1))\n",
    "    print('P(Survived=1|do(Pclass=3)) = {:.3f}'.format(p3))\n",
    "    print('ACE = {:.3f}'.format(p1 - p3))\n",
    "\n",
    "interact(ace_do_pclass_v2,\n",
    "         n_age_bins=widgets.IntSlider(min=2, max=89, step=1, value=10, continuous_update=False))"
   ]
  },
  {
   "cell_type": "markdown",
   "metadata": {},
   "source": [
    "If we assume the new DAG, taking age into account and discretize it into 10 bins, upgrading from 3rd class to 1st class increases one's survival rate by **34%**."
   ]
  },
  {
   "cell_type": "markdown",
   "metadata": {},
   "source": [
    "#### Cost?"
   ]
  },
  {
   "cell_type": "code",
   "execution_count": 38,
   "metadata": {},
   "outputs": [
    {
     "data": {
      "text/plain": [
       "Pclass\n",
       "1    84.154687\n",
       "2    20.662183\n",
       "3    13.675550\n",
       "Name: Fare, dtype: float64"
      ]
     },
     "execution_count": 38,
     "metadata": {},
     "output_type": "execute_result"
    }
   ],
   "source": [
    "titanic_training.groupby(['Pclass'])['Fare'].agg('mean')"
   ]
  },
  {
   "cell_type": "markdown",
   "metadata": {},
   "source": [
    "## Question 2: what if Jack were female?"
   ]
  },
  {
   "cell_type": "code",
   "execution_count": 39,
   "metadata": {},
   "outputs": [
    {
     "data": {
      "image/png": "[encoded data removed]",
      "text/plain": [
       "<IPython.core.display.Image object>"
      ]
     },
     "execution_count": 39,
     "metadata": {},
     "output_type": "execute_result"
    }
   ],
   "source": [
    "Image(filename='dag1.png')"
   ]
  },
  {
   "cell_type": "markdown",
   "metadata": {},
   "source": [
    "$\\text{P}(Survived=1|Sex=female,\\ Pclass=3) - \\text{P}(Survived=1|Sex=male,\\ Pclass=3)$"
   ]
  },
  {
   "cell_type": "code",
   "execution_count": 67,
   "metadata": {},
   "outputs": [
    {
     "name": "stdout",
     "output_type": "stream",
     "text": [
      "P(Survived|female, 3rd class) = 0.50\n",
      "P(Survived|male, 3rd class) = 0.14\n",
      "Direct effect of sex = 0.36\n"
     ]
    }
   ],
   "source": [
    "def direct_effect_of_sex(df):\n",
    "    p_female = get_conditional_probability(df, {'Survived': 1}, {'Sex': 'female', 'Pclass': 3})\n",
    "    p_male = get_conditional_probability(df, {'Survived': 1}, {'Sex': 'male', 'Pclass': 3})\n",
    "    print('P(Survived|female, 3rd class) = {:.2f}'.format(p_female))\n",
    "    print('P(Survived|male, 3rd class) = {:.2f}'.format(p_male))\n",
    "    print('Direct effect of sex = {:.2f}'.format(p_female - p_male))\n",
    "\n",
    "direct_effect_of_sex(titanic_training)"
   ]
  },
  {
   "cell_type": "code",
   "execution_count": 50,
   "metadata": {},
   "outputs": [
    {
     "data": {
      "image/png": "[encoded data removed]",
      "text/plain": [
       "<IPython.core.display.Image object>"
      ]
     },
     "execution_count": 50,
     "metadata": {},
     "output_type": "execute_result"
    }
   ],
   "source": [
    "Image(filename='dag2.png')"
   ]
  },
  {
   "cell_type": "markdown",
   "metadata": {},
   "source": [
    "Controlled Direct Effect (CDE)\n",
    "\n",
    "$CDE = \\text{P}(Survived=1|\\text{do}(Sex=female),\\ \\text{do}(Pclass=3)) - \\text{P}(Survived=1|\\text{do}(Sex=male),\\ \\text{do}(Pclass=3))$\n",
    "\n",
    "where\n",
    "\n",
    "$$\\text{P}(Survived=1|\\text{do}(Sex=female),\\ \\text{do}(Pclass=3)) = \\sum_a \\text{P}(Survived=1|Sex=female,\\ Pclass=3,\\ Age=a)\\text{P}(Age=a)$$"
   ]
  },
  {
   "cell_type": "code",
   "execution_count": 52,
   "metadata": {},
   "outputs": [
    {
     "data": {
      "application/vnd.jupyter.widget-view+json": {
       "model_id": "c7eb3abafbda4adfa4166d3cf39affbc",
       "version_major": 2,
       "version_minor": 0
      },
      "text/plain": [
       "interactive(children=(Dropdown(description='Pclass:', index=2, options=(1, 2, 3), value=3), IntSlider(value=10…"
      ]
     },
     "metadata": {},
     "output_type": "display_data"
    },
    {
     "data": {
      "text/plain": [
       "<function __main__.calculate_cde_of_sex(pclass, n_age_bins)>"
      ]
     },
     "execution_count": 52,
     "metadata": {},
     "output_type": "execute_result"
    }
   ],
   "source": [
    "def survival_rate_controlling_age(df, sex, pclass):\n",
    "    # calculate P(Survived=1|do(Sex=sex), do(Pclass=pclass)), using adjustment w.r.t Age\n",
    "    result = 0\n",
    "    for age in df['Age'].unique():\n",
    "        p_age = get_conditional_probability(df, {'Age': age}, {})\n",
    "        conditions = {'Sex': sex, 'Pclass': pclass, 'Age': age}\n",
    "        survival_rate = get_conditional_probability(df, {'Survived': 1}, conditions)\n",
    "        result += survival_rate * p_age\n",
    "    return result\n",
    "\n",
    "def calculate_cde_of_sex(pclass, n_age_bins):\n",
    "    df = discretize(titanic_training, 'Age', n_age_bins)\n",
    "    p_female = survival_rate_controlling_age(df, 'female', pclass)\n",
    "    p_male = survival_rate_controlling_age(df, 'male', pclass)\n",
    "    print('P(Survived=1|do(Sex=female), do(Pclass={})) = {:.3f}'.format(pclass, p_female))\n",
    "    print('P(Survived=1|do(Sex=male), do(Pclass={})) = {:.3f}'.format(pclass, p_male))\n",
    "    print('CDE = {:.3f}'.format(p_female - p_male))\n",
    "\n",
    "interact(calculate_cde_of_sex,\n",
    "         pclass=widgets.Dropdown(options=[1, 2, 3], value=3, description='Pclass:', disabled=False),\n",
    "         n_age_bins=widgets.IntSlider(min=2, max=89, step=1, value=10, continuous_update=False))"
   ]
  },
  {
   "cell_type": "markdown",
   "metadata": {},
   "source": [
    "## Regression Coefficients"
   ]
  },
  {
   "cell_type": "code",
   "execution_count": 60,
   "metadata": {},
   "outputs": [],
   "source": [
    "def print_formula(feature_names, target_name, model):\n",
    "    lhs = target_name\n",
    "    rhs = '{:.2f} '.format(model.intercept_)\n",
    "    for name, coef in zip(feature_names, model.coef_):\n",
    "        sign = '+' if coef > 0 else '-'\n",
    "        rhs += '{} {:.2f}*{} '.format(sign, abs(coef), name)\n",
    "    print(lhs + ' = ' + rhs)"
   ]
  },
  {
   "cell_type": "code",
   "execution_count": 68,
   "metadata": {},
   "outputs": [
    {
     "data": {
      "image/png": "[encoded data removed]",
      "text/plain": [
       "<IPython.core.display.Image object>"
      ]
     },
     "execution_count": 68,
     "metadata": {},
     "output_type": "execute_result"
    }
   ],
   "source": [
    "Image(filename='dag1.png')"
   ]
  },
  {
   "cell_type": "code",
   "execution_count": 90,
   "metadata": {},
   "outputs": [
    {
     "name": "stdout",
     "output_type": "stream",
     "text": [
      "Survived = 0.00 + 0.74*Sex \n"
     ]
    }
   ],
   "source": [
    "def total_effect_of_sex():\n",
    "    df = titanic_training.copy()\n",
    "    df['Sex'] = df['Sex'].map({'male': 0, 'female': 1})\n",
    "    lm = LinearRegression(fit_intercept=False)\n",
    "    feature_columns = ['Sex']\n",
    "    lm.fit(df[feature_columns], df['Survived'])\n",
    "    print_formula(feature_columns, 'Survived', lm)\n",
    "\n",
    "total_effect_of_sex()"
   ]
  },
  {
   "cell_type": "code",
   "execution_count": 93,
   "metadata": {},
   "outputs": [
    {
     "name": "stdout",
     "output_type": "stream",
     "text": [
      "Survived = 0.00 + 0.65*Sex + 0.04*Pclass \n"
     ]
    }
   ],
   "source": [
    "def direct_effect_of_sex():\n",
    "    df = titanic_training.copy()\n",
    "    df['Sex'] = df['Sex'].map({'male': 0, 'female': 1})\n",
    "    lm = LinearRegression(fit_intercept=False)\n",
    "    feature_columns = ['Sex', 'Pclass']\n",
    "    lm.fit(df[feature_columns], df['Survived'])\n",
    "    print_formula(feature_columns, 'Survived', lm)\n",
    "\n",
    "direct_effect_of_sex()"
   ]
  },
  {
   "cell_type": "markdown",
   "metadata": {},
   "source": [
    "Direct effect of sex: **65%**, total effect of sex: **74%**."
   ]
  },
  {
   "cell_type": "code",
   "execution_count": 69,
   "metadata": {},
   "outputs": [
    {
     "data": {
      "image/png": "[encoded data removed]",
      "text/plain": [
       "<IPython.core.display.Image object>"
      ]
     },
     "execution_count": 69,
     "metadata": {},
     "output_type": "execute_result"
    }
   ],
   "source": [
    "Image(filename='dag2.png')"
   ]
  },
  {
   "cell_type": "code",
   "execution_count": 94,
   "metadata": {},
   "outputs": [
    {
     "name": "stdout",
     "output_type": "stream",
     "text": [
      "Survived = 0.78 + 0.50*Sex - 0.19*Pclass - 0.01*Age \n"
     ]
    }
   ],
   "source": [
    "def direct_effect_of_sex_v2():\n",
    "    df = titanic_training.copy()\n",
    "    df['Sex'] = df['Sex'].map({'male': 0, 'female': 1})\n",
    "    df['Age'] = df['Age'].fillna(df['Age'].mean())\n",
    "    lm = LinearRegression()\n",
    "    feature_columns = ['Sex', 'Pclass', 'Age']\n",
    "    lm.fit(df[feature_columns], df['Survived'])\n",
    "    print_formula(feature_columns, 'Survived', lm)\n",
    "\n",
    "total_effect_of_sex_v2()"
   ]
  },
  {
   "cell_type": "markdown",
   "metadata": {},
   "source": [
    "Direct effect of sex: **50%**."
   ]
  },
  {
   "cell_type": "code",
   "execution_count": 19,
   "metadata": {},
   "outputs": [],
   "source": [
    "# import networkx as nx\n",
    "# def plot_dag():\n",
    "#     from_nodes = ['Sex', 'Sex', 'Pclass', 'Age', 'Age']\n",
    "#     to_nodes = ['Pclass', 'Survived', 'Survived', 'Pclass', 'Survived']\n",
    "#     df = pd.DataFrame({'from': from_nodes, 'to': to_nodes})\n",
    "#     # Define Node Positions\n",
    "#     pos = {'Sex':(4, 11),\n",
    "#            'Pclass':(1, 6),\n",
    "#            'Survived': (7, 6),\n",
    "#            'Age': (4, 1)}\n",
    "#     labels = {x: x for x in from_nodes + to_nodes}\n",
    "#     # Build your graph. Note that we use the DiGraph function to create the graph! This adds arrows\n",
    "#     dag = nx.from_pandas_edgelist(df, 'from', 'to', create_using=nx.DiGraph())\n",
    "#     nodes = nx.draw_networkx_nodes(dag, pos, alpha=1, node_color='white', node_shape='o', node_size=1e4)\n",
    "#     nx.draw_networkx_labels(dag, pos, labels, font_size=20)\n",
    "#     edges = nx.draw_networkx_edges(dag, pos, width=2, arrowsizes=10, arrowstyle='->', node_size=1e4)\n",
    "\n",
    "#     plt.xlim(0,8)\n",
    "#     plt.ylim(0,12)\n",
    "#     plt.axis('off')\n",
    "#     plt.show()\n",
    "\n",
    "# plot_dag()"
   ]
  },
  {
   "cell_type": "code",
   "execution_count": null,
   "metadata": {},
   "outputs": [],
   "source": []
  }
 ],
 "metadata": {
  "kernelspec": {
   "display_name": "Python 3",
   "language": "python",
   "name": "python3"
  },
  "language_info": {
   "codemirror_mode": {
    "name": "ipython",
    "version": 3
   },
   "file_extension": ".py",
   "mimetype": "text/x-python",
   "name": "python",
   "nbconvert_exporter": "python",
   "pygments_lexer": "ipython3",
   "version": "3.7.3"
  }
 },
 "nbformat": 4,
 "nbformat_minor": 2
}
